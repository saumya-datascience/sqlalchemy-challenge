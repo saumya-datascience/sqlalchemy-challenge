{
 "cells": [
  {
   "cell_type": "markdown",
   "metadata": {},
   "source": [
    "# Bonus: Temperature Analysis I"
   ]
  },
  {
   "cell_type": "code",
   "execution_count": 44,
   "metadata": {},
   "outputs": [],
   "source": [
    "# Import dependencies\n",
    "import pandas as pd\n",
    "import matplotlib as plt\n",
    "from sqlalchemy import create_engine, func,inspect\n",
    "from sqlalchemy.orm import Session\n",
    "from sqlalchemy.ext.automap import automap_base\n",
    "from scipy import stats\n",
    "from numpy import mean\n",
    "from sqlalchemy import and_"
   ]
  },
  {
   "cell_type": "code",
   "execution_count": 16,
   "metadata": {},
   "outputs": [],
   "source": [
    "# Using either SQLAlchemy or pandas, get the requested data per the README\n",
    "path=\"sqlite:///Resources/hawaii.sqlite\"\n",
    "engine=create_engine(path)"
   ]
  },
  {
   "cell_type": "code",
   "execution_count": 43,
   "metadata": {},
   "outputs": [
    {
     "data": {
      "text/plain": [
       "['measurement', 'station']"
      ]
     },
     "execution_count": 43,
     "metadata": {},
     "output_type": "execute_result"
    }
   ],
   "source": [
    "#reflect \n",
    "Base=automap_base()\n",
    "Base.prepare(engine,reflect=True)\n",
    "#get the classes\n",
    "Base.classes.keys()\n"
   ]
  },
  {
   "cell_type": "code",
   "execution_count": 42,
   "metadata": {},
   "outputs": [],
   "source": [
    "Measurement=Base.classes.measurement\n",
    "Station=Base.classes.station"
   ]
  },
  {
   "cell_type": "code",
   "execution_count": 18,
   "metadata": {},
   "outputs": [],
   "source": [
    "#opening the session and defining the classes\n",
    "session=Session(engine)"
   ]
  },
  {
   "cell_type": "code",
   "execution_count": 23,
   "metadata": {},
   "outputs": [
    {
     "name": "stdout",
     "output_type": "stream",
     "text": [
      "[(74.94411764705882,)] [(71.04152933421226,)]\n"
     ]
    }
   ],
   "source": [
    "#Identify the average temperature in June at all stations across all available years in the dataset.\n",
    "#Do the same for December temperature.\n",
    "june_temp=session.query(func.avg(Measurement.tobs).filter(func.strftime(\"%m\", Measurement.date) == \"06\").all()\n",
    "december_temp=session.query(func.avg(Measurement.tobs)).filter(func.strftime(\"%m\", Measurement.date) == \"12\").all()\n",
    "print(june_temp,december_temp)"
   ]
  },
  {
   "cell_type": "code",
   "execution_count": 35,
   "metadata": {},
   "outputs": [],
   "source": [
    "#Identify the average temperature in June at all stations across all available years in the dataset.\n",
    "#Do the same for December temperature.\n",
    "june_temp=session.query(Measurement.tobs).filter(func.strftime(\"%m\", Measurement.date) == \"06\").all()\n",
    "december_temp=session.query(Measurement.tobs).filter(func.strftime(\"%m\", Measurement.date) == \"12\").all()\n"
   ]
  },
  {
   "cell_type": "code",
   "execution_count": 39,
   "metadata": {},
   "outputs": [],
   "source": [
    "#gettin into seperate lists\n",
    "june_temp_list=[]\n",
    "for temp in june_temp:\n",
    "    june_temp_list.append(temp.tobs)\n",
    "dec_temp_list=[]\n",
    "for temp in december_temp:\n",
    "    dec_temp_list.append(temp.tobs)    "
   ]
  },
  {
   "cell_type": "markdown",
   "metadata": {},
   "source": [
    "Here I will like to use paired ttest (same samples group from two different time)\n"
   ]
  },
  {
   "cell_type": "code",
   "execution_count": 41,
   "metadata": {},
   "outputs": [
    {
     "data": {
      "text/plain": [
       "Ttest_indResult(statistic=31.60372399000329, pvalue=3.9025129038616655e-191)"
      ]
     },
     "execution_count": 41,
     "metadata": {},
     "output_type": "execute_result"
    }
   ],
   "source": [
    "# Use t-test to determine if difference in means is statistically significant\n",
    "stats.ttest_ind(june_temp_list,dec_temp_list)\n",
    "#stats.ttest_rel(june_temp_list,dec_temp_list)"
   ]
  },
  {
   "cell_type": "code",
   "execution_count": null,
   "metadata": {},
   "outputs": [],
   "source": []
  },
  {
   "cell_type": "markdown",
   "metadata": {},
   "source": [
    "# Discuss which t-test to use and why and what your results mean.\n",
    "i think we shd use the unpaired ttest here.\n",
    "pvalue =3.9.we are accepting the null and rejecting the alternate hypothesis as the values are greater than .05. this means we are in status quo, there is not much diff in june and dec temp of hawaii.\n",
    "the mean values june=74.94411764705882, july =71.04152933421226 confirm my findings.\n"
   ]
  }
 ],
 "metadata": {
  "kernelspec": {
   "display_name": "Python 3",
   "language": "python",
   "name": "python3"
  },
  "language_info": {
   "codemirror_mode": {
    "name": "ipython",
    "version": 3
   },
   "file_extension": ".py",
   "mimetype": "text/x-python",
   "name": "python",
   "nbconvert_exporter": "python",
   "pygments_lexer": "ipython3",
   "version": "3.6.10"
  },
  "toc": {
   "base_numbering": 1,
   "nav_menu": {},
   "number_sections": true,
   "sideBar": true,
   "skip_h1_title": false,
   "title_cell": "Table of Contents",
   "title_sidebar": "Contents",
   "toc_cell": false,
   "toc_position": {},
   "toc_section_display": true,
   "toc_window_display": false
  },
  "varInspector": {
   "cols": {
    "lenName": 16,
    "lenType": 16,
    "lenVar": 40
   },
   "kernels_config": {
    "python": {
     "delete_cmd_postfix": "",
     "delete_cmd_prefix": "del ",
     "library": "var_list.py",
     "varRefreshCmd": "print(var_dic_list())"
    },
    "r": {
     "delete_cmd_postfix": ") ",
     "delete_cmd_prefix": "rm(",
     "library": "var_list.r",
     "varRefreshCmd": "cat(var_dic_list()) "
    }
   },
   "types_to_exclude": [
    "module",
    "function",
    "builtin_function_or_method",
    "instance",
    "_Feature"
   ],
   "window_display": false
  }
 },
 "nbformat": 4,
 "nbformat_minor": 4
}
